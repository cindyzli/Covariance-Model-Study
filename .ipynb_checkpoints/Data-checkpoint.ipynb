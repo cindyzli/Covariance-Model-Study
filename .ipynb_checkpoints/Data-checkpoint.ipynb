{
 "cells": [
  {
   "cell_type": "markdown",
   "id": "1e7274b4-0877-4aba-84df-31df8a6988e3",
   "metadata": {},
   "source": [
    "## Example: Loading the daily share price data\n",
    "Load `Open-High-Low-Close (OHLC)` dataset. We gathered a daily open-high-low-close `dataset` for each firm in the [S&P500](https://en.wikipedia.org/wiki/S%26P_500) since `01-03-2018`. In addition, we also downloaded data for several [Exchange traded funds (ETFs)](https://en.wikipedia.org/wiki/Exchange-traded_fund). The objective of this notebook is to load the data and explore its features."
   ]
  },
  {
   "cell_type": "markdown",
   "id": "7093e859-903a-4966-89ab-acfeb5a8fee8",
   "metadata": {},
   "source": [
    "### Setup\n",
    "Let's load some packages that are required for the example by calling the `include(...)` function on our initialization file `Include.jl`:"
   ]
  },
  {
   "cell_type": "code",
   "execution_count": 1,
   "id": "0b5fd0b1-56f9-440a-8417-d9bd31b54be2",
   "metadata": {
    "tags": []
   },
   "outputs": [
    {
     "name": "stderr",
     "output_type": "stream",
     "text": [
      "\u001b[32m\u001b[1m  Activating\u001b[22m\u001b[39m project at `~/Desktop/julia_work/Covariance-Model-Study`\n",
      "\u001b[32m\u001b[1m  No Changes\u001b[22m\u001b[39m to `~/Desktop/julia_work/Covariance-Model-Study/Project.toml`\n",
      "\u001b[32m\u001b[1m  No Changes\u001b[22m\u001b[39m to `~/Desktop/julia_work/Covariance-Model-Study/Manifest.toml`\n",
      "\u001b[32m\u001b[1m    Updating\u001b[22m\u001b[39m registry at `~/.julia/registries/General.toml`\n",
      "\u001b[32m\u001b[1m  No Changes\u001b[22m\u001b[39m to `~/Desktop/julia_work/Covariance-Model-Study/Project.toml`\n",
      "\u001b[32m\u001b[1m  No Changes\u001b[22m\u001b[39m to `~/Desktop/julia_work/Covariance-Model-Study/Manifest.toml`\n"
     ]
    }
   ],
   "source": [
    "include(\"Include.jl\")"
   ]
  },
  {
   "cell_type": "markdown",
   "id": "cd871f53-b8b2-4da3-af15-c86bc6605741",
   "metadata": {},
   "source": [
    "## Load the data\n",
    "We load the `OHLC` data using the `load(...)` command exported from the [JLD2.jl](https://github.com/JuliaIO/JLD2.jl) package. The data is returned as a `Dict{String,Any}` where the `keys` are the [ticker symbols](https://en.wikipedia.org/wiki/Ticker_symbol#:~:text=A%20ticker%20symbol%20or%20stock,on%20a%20particular%20stock%20market.) and the `values` are the `OHLC` values corresponding to that `ticker`. The data dictionary is contained in the `dataset` variable:"
   ]
  },
  {
   "cell_type": "code",
   "execution_count": 4,
   "id": "58a50395-84ed-482a-8446-ed1187627792",
   "metadata": {
    "tags": []
   },
   "outputs": [],
   "source": [
    "dataset = load(joinpath(_PATH_TO_DATA, \"Daily-OHLC-1-3-2018-to-10-26-2023.jld2\"))|> x-> x[\"dataset\"];"
   ]
  },
  {
   "cell_type": "markdown",
   "id": "3e2c4b64-da5a-4cf2-9538-535f7edbfdba",
   "metadata": {},
   "source": [
    "### Disclaimer and Risks\n",
    "\n",
    "__This content is offered solely for training and informational purposes__. No offer or solicitation to buy or sell securities or derivative products or any investment or trading advice or strategy is made, given, or endorsed by the teaching team.\n",
    "\n",
    "__Trading involves risk__. Carefully review your financial situation before investing in securities, futures contracts, options, or commodity interests. Past performance, whether actual or indicated by historical tests of strategies, is no guarantee of future performance or success. Trading is generally inappropriate for someone with limited resources, investment or trading experience, or a low-risk tolerance. Only risk capital that is not required for living expenses.\n",
    "\n",
    "__You are fully responsible for any investment or trading decisions you make__. Such decisions should be based solely on evaluating your financial circumstances, investment or trading objectives, risk tolerance, and liquidity needs."
   ]
  },
  {
   "cell_type": "code",
   "execution_count": null,
   "id": "4ec2a235-5e11-41e3-862f-5bc7f3125062",
   "metadata": {},
   "outputs": [],
   "source": []
  }
 ],
 "metadata": {
  "kernelspec": {
   "display_name": "Julia 1.9.3",
   "language": "julia",
   "name": "julia-1.9"
  },
  "language_info": {
   "file_extension": ".jl",
   "mimetype": "application/julia",
   "name": "julia",
   "version": "1.9.3"
  }
 },
 "nbformat": 4,
 "nbformat_minor": 5
}
